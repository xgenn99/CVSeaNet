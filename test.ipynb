{
 "cells": [
  {
   "cell_type": "code",
   "execution_count": 7,
   "metadata": {},
   "outputs": [],
   "source": [
    "import torch\n",
    "from Model.complete_model import CVSeaNet\n",
    "import matplotlib.pyplot as plt\n",
    "import rasterio\n",
    "from IPython.display import clear_output"
   ]
  },
  {
   "cell_type": "code",
   "execution_count": null,
   "metadata": {},
   "outputs": [],
   "source": [
    "path_state = r\"Weights\\epoch=64-step=134160.ckpt\"\n",
    "state = torch.load(path_state)\n",
    "in_channels = in_channels = state['hyper_parameters']['in_channels']\n",
    "in_res = state['hyper_parameters']['in_res']\n",
    "backbone_type_id = state['hyper_parameters']['backbone_type_id']\n",
    "backbone_architecture = state['hyper_parameters']['backbone_architecture']\n",
    "score_threshold = state['hyper_parameters']['score_threshold']\n",
    "real_conv_block = state['hyper_parameters']['real_conv_block']\n",
    "model = CVSeaNet(in_channels=in_channels, in_resolution=in_res, backbone_params=[backbone_type_id, backbone_architecture],\n",
    "                 score_threshold=score_threshold, real_conv_block=real_conv_block).to(device='cuda', dtype=torch.float16)\n",
    "state_dict_without_prefix = {key.replace('model.', ''): value for key, value in state['state_dict'].items()}     \n",
    "model.load_state_dict(state_dict_without_prefix)\n",
    "clear_output(True)\n",
    "\n",
    "file_path = input(\"Insert image path (.tif)\")\n",
    "with rasterio.open(file_path) as f:\n",
    "    x_real_vh = f.read(1)\n",
    "    x_imag_vh = f.read(2)\n",
    "x_real_vh = torch.from_numpy(x_real_vh)\n",
    "x_imag_vh = torch.from_numpy(x_imag_vh)\n",
    "img = torch.stack((x_real_vh, x_imag_vh))\n",
    "img = img.unsqueeze(0).to(device='cuda', dtype=torch.float16)\n",
    "\n",
    "\n",
    "model.eval()\n",
    "out = model(img)\n",
    "idx_kp = torch.nonzero(out['Keypoints heatmap'] > score_threshold)\n",
    "idx_kp = idx_kp[:, 2:]\n",
    "off = out['Offset heatmap']\n",
    "x_off = off[0,0,idx_kp[:,0], idx_kp[:,1]].unsqueeze(-1)\n",
    "y_off = off[0,1,idx_kp[:,0], idx_kp[:,1]].unsqueeze(-1)\n",
    "off = torch.cat((x_off, y_off),dim=-1)\n",
    "scaled_out = idx_kp + off\n",
    "scaled_out = scaled_out * out['Scale Parameter']\n",
    "plt.figure(figsize=(20,20))\n",
    "plt.imshow((torch.abs(img[0,0].to(torch.float) + 1j * img[0,1].to(torch.float)).cpu().numpy()), cmap='gray')\n",
    "plt.scatter(scaled_out[:,0].to(torch.float).detach().cpu().numpy(), scaled_out[:,1].to(torch.float).detach().cpu().numpy(), marker='x', c='blue')"
   ]
  }
 ],
 "metadata": {
  "kernelspec": {
   "display_name": "TorchEnv",
   "language": "python",
   "name": "python3"
  },
  "language_info": {
   "codemirror_mode": {
    "name": "ipython",
    "version": 3
   },
   "file_extension": ".py",
   "mimetype": "text/x-python",
   "name": "python",
   "nbconvert_exporter": "python",
   "pygments_lexer": "ipython3",
   "version": "3.11.6"
  }
 },
 "nbformat": 4,
 "nbformat_minor": 2
}
